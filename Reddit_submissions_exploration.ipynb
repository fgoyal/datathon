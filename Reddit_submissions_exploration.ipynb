{
 "cells": [
  {
   "cell_type": "code",
   "execution_count": 1,
   "metadata": {},
   "outputs": [],
   "source": [
    "import json\n",
    "import pandas as pd"
   ]
  },
  {
   "cell_type": "code",
   "execution_count": 4,
   "metadata": {},
   "outputs": [
    {
     "ename": "KeyboardInterrupt",
     "evalue": "",
     "output_type": "error",
     "traceback": [
      "\u001b[0;31m---------------------------------------------------------------------------\u001b[0m",
      "\u001b[0;31mKeyboardInterrupt\u001b[0m                         Traceback (most recent call last)",
      "\u001b[0;32m<ipython-input-4-b95ffe087658>\u001b[0m in \u001b[0;36m<module>\u001b[0;34m()\u001b[0m\n\u001b[1;32m     10\u001b[0m     \u001b[0;32mwith\u001b[0m \u001b[0mopen\u001b[0m\u001b[0;34m(\u001b[0m\u001b[0mfilename\u001b[0m\u001b[0;34m)\u001b[0m \u001b[0;32mas\u001b[0m \u001b[0mjson_file\u001b[0m\u001b[0;34m:\u001b[0m\u001b[0;34m\u001b[0m\u001b[0m\n\u001b[1;32m     11\u001b[0m         \u001b[0mdata\u001b[0m \u001b[0;34m=\u001b[0m \u001b[0mjson_file\u001b[0m\u001b[0;34m.\u001b[0m\u001b[0mreadlines\u001b[0m\u001b[0;34m(\u001b[0m\u001b[0;34m)\u001b[0m\u001b[0;34m\u001b[0m\u001b[0m\n\u001b[0;32m---> 12\u001b[0;31m         \u001b[0mdata\u001b[0m \u001b[0;34m=\u001b[0m \u001b[0mlist\u001b[0m\u001b[0;34m(\u001b[0m\u001b[0mmap\u001b[0m\u001b[0;34m(\u001b[0m\u001b[0mjson\u001b[0m\u001b[0;34m.\u001b[0m\u001b[0mloads\u001b[0m\u001b[0;34m,\u001b[0m \u001b[0mdata\u001b[0m\u001b[0;34m)\u001b[0m\u001b[0;34m)\u001b[0m\u001b[0;34m\u001b[0m\u001b[0m\n\u001b[0m\u001b[1;32m     13\u001b[0m \u001b[0;34m\u001b[0m\u001b[0m\n\u001b[1;32m     14\u001b[0m     \u001b[0mall_data\u001b[0m\u001b[0;34m.\u001b[0m\u001b[0mappend\u001b[0m\u001b[0;34m(\u001b[0m\u001b[0mdata\u001b[0m\u001b[0;34m)\u001b[0m\u001b[0;34m\u001b[0m\u001b[0m\n",
      "\u001b[0;32m/Library/Frameworks/Python.framework/Versions/3.7/lib/python3.7/json/__init__.py\u001b[0m in \u001b[0;36mloads\u001b[0;34m(s, encoding, cls, object_hook, parse_float, parse_int, parse_constant, object_pairs_hook, **kw)\u001b[0m\n\u001b[1;32m    346\u001b[0m             \u001b[0mparse_int\u001b[0m \u001b[0;32mis\u001b[0m \u001b[0;32mNone\u001b[0m \u001b[0;32mand\u001b[0m \u001b[0mparse_float\u001b[0m \u001b[0;32mis\u001b[0m \u001b[0;32mNone\u001b[0m \u001b[0;32mand\u001b[0m\u001b[0;34m\u001b[0m\u001b[0m\n\u001b[1;32m    347\u001b[0m             parse_constant is None and object_pairs_hook is None and not kw):\n\u001b[0;32m--> 348\u001b[0;31m         \u001b[0;32mreturn\u001b[0m \u001b[0m_default_decoder\u001b[0m\u001b[0;34m.\u001b[0m\u001b[0mdecode\u001b[0m\u001b[0;34m(\u001b[0m\u001b[0ms\u001b[0m\u001b[0;34m)\u001b[0m\u001b[0;34m\u001b[0m\u001b[0m\n\u001b[0m\u001b[1;32m    349\u001b[0m     \u001b[0;32mif\u001b[0m \u001b[0mcls\u001b[0m \u001b[0;32mis\u001b[0m \u001b[0;32mNone\u001b[0m\u001b[0;34m:\u001b[0m\u001b[0;34m\u001b[0m\u001b[0m\n\u001b[1;32m    350\u001b[0m         \u001b[0mcls\u001b[0m \u001b[0;34m=\u001b[0m \u001b[0mJSONDecoder\u001b[0m\u001b[0;34m\u001b[0m\u001b[0m\n",
      "\u001b[0;32m/Library/Frameworks/Python.framework/Versions/3.7/lib/python3.7/json/decoder.py\u001b[0m in \u001b[0;36mdecode\u001b[0;34m(self, s, _w)\u001b[0m\n\u001b[1;32m    335\u001b[0m \u001b[0;34m\u001b[0m\u001b[0m\n\u001b[1;32m    336\u001b[0m         \"\"\"\n\u001b[0;32m--> 337\u001b[0;31m         \u001b[0mobj\u001b[0m\u001b[0;34m,\u001b[0m \u001b[0mend\u001b[0m \u001b[0;34m=\u001b[0m \u001b[0mself\u001b[0m\u001b[0;34m.\u001b[0m\u001b[0mraw_decode\u001b[0m\u001b[0;34m(\u001b[0m\u001b[0ms\u001b[0m\u001b[0;34m,\u001b[0m \u001b[0midx\u001b[0m\u001b[0;34m=\u001b[0m\u001b[0m_w\u001b[0m\u001b[0;34m(\u001b[0m\u001b[0ms\u001b[0m\u001b[0;34m,\u001b[0m \u001b[0;36m0\u001b[0m\u001b[0;34m)\u001b[0m\u001b[0;34m.\u001b[0m\u001b[0mend\u001b[0m\u001b[0;34m(\u001b[0m\u001b[0;34m)\u001b[0m\u001b[0;34m)\u001b[0m\u001b[0;34m\u001b[0m\u001b[0m\n\u001b[0m\u001b[1;32m    338\u001b[0m         \u001b[0mend\u001b[0m \u001b[0;34m=\u001b[0m \u001b[0m_w\u001b[0m\u001b[0;34m(\u001b[0m\u001b[0ms\u001b[0m\u001b[0;34m,\u001b[0m \u001b[0mend\u001b[0m\u001b[0;34m)\u001b[0m\u001b[0;34m.\u001b[0m\u001b[0mend\u001b[0m\u001b[0;34m(\u001b[0m\u001b[0;34m)\u001b[0m\u001b[0;34m\u001b[0m\u001b[0m\n\u001b[1;32m    339\u001b[0m         \u001b[0;32mif\u001b[0m \u001b[0mend\u001b[0m \u001b[0;34m!=\u001b[0m \u001b[0mlen\u001b[0m\u001b[0;34m(\u001b[0m\u001b[0ms\u001b[0m\u001b[0;34m)\u001b[0m\u001b[0;34m:\u001b[0m\u001b[0;34m\u001b[0m\u001b[0m\n",
      "\u001b[0;32m/Library/Frameworks/Python.framework/Versions/3.7/lib/python3.7/json/decoder.py\u001b[0m in \u001b[0;36mraw_decode\u001b[0;34m(self, s, idx)\u001b[0m\n\u001b[1;32m    351\u001b[0m         \"\"\"\n\u001b[1;32m    352\u001b[0m         \u001b[0;32mtry\u001b[0m\u001b[0;34m:\u001b[0m\u001b[0;34m\u001b[0m\u001b[0m\n\u001b[0;32m--> 353\u001b[0;31m             \u001b[0mobj\u001b[0m\u001b[0;34m,\u001b[0m \u001b[0mend\u001b[0m \u001b[0;34m=\u001b[0m \u001b[0mself\u001b[0m\u001b[0;34m.\u001b[0m\u001b[0mscan_once\u001b[0m\u001b[0;34m(\u001b[0m\u001b[0ms\u001b[0m\u001b[0;34m,\u001b[0m \u001b[0midx\u001b[0m\u001b[0;34m)\u001b[0m\u001b[0;34m\u001b[0m\u001b[0m\n\u001b[0m\u001b[1;32m    354\u001b[0m         \u001b[0;32mexcept\u001b[0m \u001b[0mStopIteration\u001b[0m \u001b[0;32mas\u001b[0m \u001b[0merr\u001b[0m\u001b[0;34m:\u001b[0m\u001b[0;34m\u001b[0m\u001b[0m\n\u001b[1;32m    355\u001b[0m             \u001b[0;32mraise\u001b[0m \u001b[0mJSONDecodeError\u001b[0m\u001b[0;34m(\u001b[0m\u001b[0;34m\"Expecting value\"\u001b[0m\u001b[0;34m,\u001b[0m \u001b[0ms\u001b[0m\u001b[0;34m,\u001b[0m \u001b[0merr\u001b[0m\u001b[0;34m.\u001b[0m\u001b[0mvalue\u001b[0m\u001b[0;34m)\u001b[0m \u001b[0;32mfrom\u001b[0m \u001b[0;32mNone\u001b[0m\u001b[0;34m\u001b[0m\u001b[0m\n",
      "\u001b[0;31mKeyboardInterrupt\u001b[0m: "
     ]
    }
   ],
   "source": [
    "all_data = []\n",
    "\n",
    "for i in range(1, 13):\n",
    "    filename = 'Reddit_Submissions/RS_v2_2009-'\n",
    "    if (i < 10):\n",
    "        filename += '0' + str(i)\n",
    "    else:\n",
    "        filename += str(i)\n",
    "        \n",
    "    with open(filename) as json_file:\n",
    "        data = json_file.readlines()\n",
    "        data = list(map(json.loads, data))\n",
    "    \n",
    "    all_data.append(data)"
   ]
  },
  {
   "cell_type": "code",
   "execution_count": null,
   "metadata": {},
   "outputs": [],
   "source": [
    "dataframe_2009 = pd.DataFrame(pd.concat(all_data, axis=1))"
   ]
  },
  {
   "cell_type": "code",
   "execution_count": 13,
   "metadata": {},
   "outputs": [
    {
     "data": {
      "text/html": [
       "<div>\n",
       "<style scoped>\n",
       "    .dataframe tbody tr th:only-of-type {\n",
       "        vertical-align: middle;\n",
       "    }\n",
       "\n",
       "    .dataframe tbody tr th {\n",
       "        vertical-align: top;\n",
       "    }\n",
       "\n",
       "    .dataframe thead th {\n",
       "        text-align: right;\n",
       "    }\n",
       "</style>\n",
       "<table border=\"1\" class=\"dataframe\">\n",
       "  <thead>\n",
       "    <tr style=\"text-align: right;\">\n",
       "      <th></th>\n",
       "      <th>adserver_click_url</th>\n",
       "      <th>adserver_imp_pixel</th>\n",
       "      <th>approved</th>\n",
       "      <th>archived</th>\n",
       "      <th>author</th>\n",
       "      <th>author_cakeday</th>\n",
       "      <th>author_flair_background_color</th>\n",
       "      <th>author_flair_css_class</th>\n",
       "      <th>author_flair_richtext</th>\n",
       "      <th>author_flair_text</th>\n",
       "      <th>...</th>\n",
       "      <th>suggested_sort</th>\n",
       "      <th>third_party_trackers</th>\n",
       "      <th>third_party_tracking</th>\n",
       "      <th>third_party_tracking_2</th>\n",
       "      <th>thumbnail</th>\n",
       "      <th>thumbnail_height</th>\n",
       "      <th>thumbnail_width</th>\n",
       "      <th>title</th>\n",
       "      <th>url</th>\n",
       "      <th>whitelist_status</th>\n",
       "    </tr>\n",
       "  </thead>\n",
       "  <tbody>\n",
       "    <tr>\n",
       "      <th>0</th>\n",
       "      <td>NaN</td>\n",
       "      <td>NaN</td>\n",
       "      <td>NaN</td>\n",
       "      <td>True</td>\n",
       "      <td>[deleted]</td>\n",
       "      <td>NaN</td>\n",
       "      <td></td>\n",
       "      <td>None</td>\n",
       "      <td>NaN</td>\n",
       "      <td>None</td>\n",
       "      <td>...</td>\n",
       "      <td>None</td>\n",
       "      <td>NaN</td>\n",
       "      <td>NaN</td>\n",
       "      <td>NaN</td>\n",
       "      <td>default</td>\n",
       "      <td>NaN</td>\n",
       "      <td>NaN</td>\n",
       "      <td>Laura Ingraham's Embryo...</td>\n",
       "      <td>http://unemployedguide.blogspot.com/2008/12/la...</td>\n",
       "      <td>all_ads</td>\n",
       "    </tr>\n",
       "    <tr>\n",
       "      <th>1</th>\n",
       "      <td>NaN</td>\n",
       "      <td>NaN</td>\n",
       "      <td>NaN</td>\n",
       "      <td>True</td>\n",
       "      <td>[deleted]</td>\n",
       "      <td>NaN</td>\n",
       "      <td></td>\n",
       "      <td>None</td>\n",
       "      <td>NaN</td>\n",
       "      <td>None</td>\n",
       "      <td>...</td>\n",
       "      <td>None</td>\n",
       "      <td>NaN</td>\n",
       "      <td>NaN</td>\n",
       "      <td>NaN</td>\n",
       "      <td>default</td>\n",
       "      <td>NaN</td>\n",
       "      <td>NaN</td>\n",
       "      <td>How to kill 16,000 rats in a month in the 1840's</td>\n",
       "      <td>http://thehistorycellar.blogspot.com/2008/12/h...</td>\n",
       "      <td>all_ads</td>\n",
       "    </tr>\n",
       "    <tr>\n",
       "      <th>2</th>\n",
       "      <td>NaN</td>\n",
       "      <td>NaN</td>\n",
       "      <td>NaN</td>\n",
       "      <td>True</td>\n",
       "      <td>mehmill</td>\n",
       "      <td>NaN</td>\n",
       "      <td>None</td>\n",
       "      <td>None</td>\n",
       "      <td>[]</td>\n",
       "      <td>None</td>\n",
       "      <td>...</td>\n",
       "      <td>None</td>\n",
       "      <td>NaN</td>\n",
       "      <td>NaN</td>\n",
       "      <td>NaN</td>\n",
       "      <td>default</td>\n",
       "      <td>NaN</td>\n",
       "      <td>NaN</td>\n",
       "      <td>The Best Diet for Preventing Colds</td>\n",
       "      <td>http://xiyad.com/health-wellness/the-best-diet...</td>\n",
       "      <td>all_ads</td>\n",
       "    </tr>\n",
       "    <tr>\n",
       "      <th>3</th>\n",
       "      <td>NaN</td>\n",
       "      <td>NaN</td>\n",
       "      <td>NaN</td>\n",
       "      <td>True</td>\n",
       "      <td>CamelTap</td>\n",
       "      <td>NaN</td>\n",
       "      <td>None</td>\n",
       "      <td>None</td>\n",
       "      <td>[]</td>\n",
       "      <td>None</td>\n",
       "      <td>...</td>\n",
       "      <td>None</td>\n",
       "      <td>NaN</td>\n",
       "      <td>NaN</td>\n",
       "      <td>NaN</td>\n",
       "      <td></td>\n",
       "      <td>NaN</td>\n",
       "      <td>NaN</td>\n",
       "      <td>FHM Hungary 2009 Topless Calendar</td>\n",
       "      <td>http://www.dailypoa.com/forum/viewtopic.php?f=...</td>\n",
       "      <td>promo_adult_nsfw</td>\n",
       "    </tr>\n",
       "    <tr>\n",
       "      <th>4</th>\n",
       "      <td>NaN</td>\n",
       "      <td>NaN</td>\n",
       "      <td>NaN</td>\n",
       "      <td>True</td>\n",
       "      <td>[deleted]</td>\n",
       "      <td>NaN</td>\n",
       "      <td></td>\n",
       "      <td>None</td>\n",
       "      <td>NaN</td>\n",
       "      <td>None</td>\n",
       "      <td>...</td>\n",
       "      <td>None</td>\n",
       "      <td>NaN</td>\n",
       "      <td>NaN</td>\n",
       "      <td>NaN</td>\n",
       "      <td>default</td>\n",
       "      <td>NaN</td>\n",
       "      <td>NaN</td>\n",
       "      <td>Dinner time! [PIC]</td>\n",
       "      <td>http://darkjak.deviantart.com/art/Dinner-time-...</td>\n",
       "      <td>all_ads</td>\n",
       "    </tr>\n",
       "  </tbody>\n",
       "</table>\n",
       "<p>5 rows × 86 columns</p>\n",
       "</div>"
      ],
      "text/plain": [
       "   adserver_click_url  adserver_imp_pixel approved  archived     author  \\\n",
       "0                 NaN                 NaN      NaN      True  [deleted]   \n",
       "1                 NaN                 NaN      NaN      True  [deleted]   \n",
       "2                 NaN                 NaN      NaN      True    mehmill   \n",
       "3                 NaN                 NaN      NaN      True   CamelTap   \n",
       "4                 NaN                 NaN      NaN      True  [deleted]   \n",
       "\n",
       "  author_cakeday author_flair_background_color author_flair_css_class  \\\n",
       "0            NaN                                                 None   \n",
       "1            NaN                                                 None   \n",
       "2            NaN                          None                   None   \n",
       "3            NaN                          None                   None   \n",
       "4            NaN                                                 None   \n",
       "\n",
       "  author_flair_richtext author_flair_text        ...        suggested_sort  \\\n",
       "0                   NaN              None        ...                  None   \n",
       "1                   NaN              None        ...                  None   \n",
       "2                    []              None        ...                  None   \n",
       "3                    []              None        ...                  None   \n",
       "4                   NaN              None        ...                  None   \n",
       "\n",
       "  third_party_trackers third_party_tracking  third_party_tracking_2  \\\n",
       "0                  NaN                  NaN                     NaN   \n",
       "1                  NaN                  NaN                     NaN   \n",
       "2                  NaN                  NaN                     NaN   \n",
       "3                  NaN                  NaN                     NaN   \n",
       "4                  NaN                  NaN                     NaN   \n",
       "\n",
       "   thumbnail  thumbnail_height  thumbnail_width  \\\n",
       "0    default               NaN              NaN   \n",
       "1    default               NaN              NaN   \n",
       "2    default               NaN              NaN   \n",
       "3                          NaN              NaN   \n",
       "4    default               NaN              NaN   \n",
       "\n",
       "                                              title  \\\n",
       "0                        Laura Ingraham's Embryo...   \n",
       "1  How to kill 16,000 rats in a month in the 1840's   \n",
       "2                The Best Diet for Preventing Colds   \n",
       "3                 FHM Hungary 2009 Topless Calendar   \n",
       "4                                Dinner time! [PIC]   \n",
       "\n",
       "                                                 url  whitelist_status  \n",
       "0  http://unemployedguide.blogspot.com/2008/12/la...           all_ads  \n",
       "1  http://thehistorycellar.blogspot.com/2008/12/h...           all_ads  \n",
       "2  http://xiyad.com/health-wellness/the-best-diet...           all_ads  \n",
       "3  http://www.dailypoa.com/forum/viewtopic.php?f=...  promo_adult_nsfw  \n",
       "4  http://darkjak.deviantart.com/art/Dinner-time-...           all_ads  \n",
       "\n",
       "[5 rows x 86 columns]"
      ]
     },
     "execution_count": 13,
     "metadata": {},
     "output_type": "execute_result"
    }
   ],
   "source": [
    "dataframe_2009.head()"
   ]
  },
  {
   "cell_type": "code",
   "execution_count": 31,
   "metadata": {},
   "outputs": [
    {
     "data": {
      "text/plain": [
       "Index(['adserver_click_url', 'adserver_imp_pixel', 'approved', 'archived',\n",
       "       'author', 'author_cakeday', 'author_flair_background_color',\n",
       "       'author_flair_css_class', 'author_flair_richtext', 'author_flair_text',\n",
       "       'author_flair_text_color', 'author_flair_type', 'author_id',\n",
       "       'brand_safe', 'can_gild', 'contest_mode', 'created_utc',\n",
       "       'distinguished', 'domain', 'domain_override', 'edited', 'embed_type',\n",
       "       'embed_url', 'events', 'eventsOnRender', 'gilded', 'hidden',\n",
       "       'hide_score', 'href_url', 'id', 'ignore_reports', 'is_blank',\n",
       "       'is_crosspostable', 'is_reddit_media_domain', 'is_self', 'is_video',\n",
       "       'link_flair_background_color', 'link_flair_css_class',\n",
       "       'link_flair_richtext', 'link_flair_text', 'link_flair_text_color',\n",
       "       'link_flair_type', 'locked', 'media', 'media_embed', 'mobile_ad_url',\n",
       "       'no_follow', 'num_comments', 'num_crossposts', 'original_link',\n",
       "       'outbound_link', 'over_18', 'parent_whitelist_status', 'permalink',\n",
       "       'post_hint', 'preview', 'priority_id', 'promoted', 'promoted_by',\n",
       "       'promoted_display_name', 'promoted_url', 'removed', 'retrieved_on',\n",
       "       'rte_mode', 'score', 'secure_media', 'secure_media_embed', 'selftext',\n",
       "       'send_replies', 'spam', 'spoiler', 'stickied', 'subreddit',\n",
       "       'subreddit_id', 'subreddit_name_prefixed', 'subreddit_type',\n",
       "       'suggested_sort', 'third_party_trackers', 'third_party_tracking',\n",
       "       'third_party_tracking_2', 'thumbnail', 'thumbnail_height',\n",
       "       'thumbnail_width', 'title', 'url', 'whitelist_status'],\n",
       "      dtype='object')"
      ]
     },
     "execution_count": 31,
     "metadata": {},
     "output_type": "execute_result"
    }
   ],
   "source": [
    "dataframe_2009.columns"
   ]
  },
  {
   "cell_type": "code",
   "execution_count": 60,
   "metadata": {
    "scrolled": true
   },
   "outputs": [],
   "source": [
    "dataframe_2009.drop(columns=['adserver_click_url', 'adserver_imp_pixel', 'author_cakeday', 'author_flair_background_color', 'author_flair_css_class', 'author_flair_richtext', 'author_flair_text',\n",
    "       'author_flair_text_color', 'author_flair_type', 'author_id',\n",
    "       'brand_safe', 'can_gild', 'contest_mode', 'created_utc',\n",
    "       'distinguished', 'domain', 'domain_override', 'edited', 'embed_type',\n",
    "       'embed_url', 'events', 'eventsOnRender', 'id', 'ignore_reports', 'is_blank',\n",
    "       'is_crosspostable', 'is_reddit_media_domain', 'is_self', 'permalink',\n",
    "       'post_hint', 'preview', 'priority_id', 'thumbnail', 'thumbnail_height',\n",
    "       'thumbnail_width'], axis=1, inplace=True)"
   ]
  },
  {
   "cell_type": "code",
   "execution_count": 61,
   "metadata": {},
   "outputs": [
    {
     "data": {
      "text/plain": [
       "Index(['approved', 'archived', 'author', 'gilded', 'hidden', 'hide_score',\n",
       "       'href_url', 'is_video', 'link_flair_background_color',\n",
       "       'link_flair_css_class', 'link_flair_richtext', 'link_flair_text',\n",
       "       'link_flair_text_color', 'link_flair_type', 'locked', 'media',\n",
       "       'media_embed', 'mobile_ad_url', 'no_follow', 'num_comments',\n",
       "       'num_crossposts', 'original_link', 'outbound_link', 'over_18',\n",
       "       'parent_whitelist_status', 'promoted', 'promoted_by',\n",
       "       'promoted_display_name', 'promoted_url', 'removed', 'retrieved_on',\n",
       "       'rte_mode', 'score', 'secure_media', 'secure_media_embed', 'selftext',\n",
       "       'send_replies', 'spam', 'spoiler', 'stickied', 'subreddit',\n",
       "       'subreddit_id', 'subreddit_name_prefixed', 'subreddit_type',\n",
       "       'suggested_sort', 'third_party_trackers', 'third_party_tracking',\n",
       "       'third_party_tracking_2', 'title', 'url', 'whitelist_status'],\n",
       "      dtype='object')"
      ]
     },
     "execution_count": 61,
     "metadata": {},
     "output_type": "execute_result"
    }
   ],
   "source": [
    "dataframe_2009.columns"
   ]
  },
  {
   "cell_type": "code",
   "execution_count": 65,
   "metadata": {},
   "outputs": [
    {
     "data": {
      "text/plain": [
       "252665    Choose Delonghi Oil Heaters or Honeywell Oil H...\n",
       "Name: title, dtype: object"
      ]
     },
     "execution_count": 65,
     "metadata": {},
     "output_type": "execute_result"
    }
   ],
   "source": [
    "dataframe_2009_honeywell = dataframe_2009.loc[dataframe_2009['title'].str.contains('Honeywell|honeywell')]\n",
    "dataframe_2009_honeywell['title']"
   ]
  },
  {
   "cell_type": "code",
   "execution_count": 91,
   "metadata": {},
   "outputs": [],
   "source": [
    "dataframe_2009_3m = dataframe_2009.loc[dataframe_2009['title'].str.contains('3M | 3M ')]\n",
    "dataframe_2009_bayer = dataframe_2009.loc[dataframe_2009['title'].str.contains('Bayer|bayer|BAYRY')]\n",
    "dataframe_2009_synchrony = dataframe_2009.loc[dataframe_2009['title'].str.contains('Synchrony|SYF')]\n",
    "\n",
    "dataframe_2009_stockmarket = dataframe_2009.loc[dataframe_2009['subreddit'].str.contains('investing')]"
   ]
  },
  {
   "cell_type": "code",
   "execution_count": 95,
   "metadata": {
    "scrolled": false
   },
   "outputs": [
    {
     "name": "stdout",
     "output_type": "stream",
     "text": [
      "54132     AT&amp;T builds $23M IPv6 network for U.S. mil...\n",
      "57575           3M reveals second-gen pocket projector tech\n",
      "58809     After Searching For 3M Performance Plus Nuclea...\n",
      "85260     Hijacked Saudi oil tanker released after $3M paid\n",
      "177914              3M Micro MPro 110 - Your Mini Projector\n",
      "177919              3M Micro MPro 110 - Your Mini Projector\n",
      "217722    CNN streamed to 21.3M people during inaugurati...\n",
      "262440    Lehman CEO Richard - I'm feeling terrible for ...\n",
      "282779                         KnowTheCo - 3M SWOT Analysis\n",
      "292684    Better Place Closes €103M Deal For Danish Elec...\n",
      "294829    Remember the car covered in Post-It Notes?  3M...\n",
      "326600    MXL V63M Condenser Studio Microphone - Today’s...\n",
      "Name: title, dtype: object\n"
     ]
    }
   ],
   "source": [
    "print(dataframe_2009_3m['title'])"
   ]
  },
  {
   "cell_type": "code",
   "execution_count": 96,
   "metadata": {
    "scrolled": true
   },
   "outputs": [
    {
     "name": "stdout",
     "output_type": "stream",
     "text": [
      "2219            Zwiefacher zum neuen Jahr | Der Bayern Blog\n",
      "3750                       Are eBayers really this stupid? \n",
      "5497      How to make money on eBay ... or, I should say...\n",
      "8598                        Are eBayers really this stupid?\n",
      "9107                        Are eBayers really this stupid?\n",
      "16904     Bairisch Diatonischer Jodelwahnsinn Mc Donalds...\n",
      "25223            Servicewüste Deutschland | Der Bayern Blog\n",
      "31702     Der Bauer hat gesagt-lustiger Werbespot | Der ...\n",
      "44699     Bayerisches Frühstück Weißwurst und Brezn | De...\n",
      "45298         Donovan joins Bayern Munich on temporary loan\n",
      "45894     Bayer (aspirin) distributed HIV/AIDS to thousa...\n",
      "49589     Bayer Knowingly Distributed Vaccine Contaminat...\n",
      "54262     Remember the ebayer who scammed a guy and then...\n",
      "54391     Remember the ebayer who scammed a guy and then...\n",
      "62423     Privater Krankenpflegedienst sucht dringend ex...\n",
      "69208                               Urlaub Bayerischer Wald\n",
      "71730                    Best Ebayer Ever? Yes. I think so.\n",
      "75129     Top Picks : Renting out : Canada AM: Heather B...\n",
      "80514     Bayerisches Liedgut Drunt in da Greana Au | De...\n",
      "84205                                        Stupid ebayers\n",
      "91421     Nur ein Spiel Mensch ärgere dich nicht | Der B...\n",
      "91668     Watch Al-Jazira vs Bayern Munchen live streami...\n",
      "99423          Die Wikinger im Loisachtal | Der Bayern Blog\n",
      "104816    Al Wehda Vs Bayern Munich 12 January 2009 Live...\n",
      "108990                     Ribery unsure over Bayern future\n",
      "110054    Enjoy Al-Wehda vs Bayern Munchen live video st...\n",
      "122025    Bursaspor vs Bayer 04 Leverkusen live streamin...\n",
      "125032    Streaming Calcio: Bursaspor - Bayer 04 Leverkusen\n",
      "133776    Am Festspielhaus Bayerischer Hof Hotel Baden-B...\n",
      "142875    Urteil vom Bayerischen Verwaltungsgerichtshof:...\n",
      "155842                      FDA Hides Bayer Selling AIDS!!!\n",
      "158261           FDA Hides Bayer Selling AIDS!!! // Current\n",
      "181372                                 One damn sexy eBayer\n",
      "186224    Kaiserslautern Vs Bayern Munich 19 January 200...\n",
      "186297    Kaiserslautern vs Bayern Munchen live stream F...\n",
      "188265    Kaiserslautern vs Bayern Munich Live and Highl...\n",
      "198320    Herbert und Schnipsi Sterbeanzeige | Der Bayer...\n",
      "225721    FSV Mainz 05 vs Bayern Munchen Live Streaming ...\n",
      "238260         Landon Donovan Looking Good at Bayern Munich\n",
      "246997               Fensterln mit Tücken | Der Bayern Blog\n",
      "273986    Stuttgart vs Bayern Munchen Enjoy Live Stream ...\n",
      "275101    Watch Stuttgart vs Bayern Munchen live streami...\n",
      "275478      Enjoy Stuttgart vs Bayern Munchen Live strea...\n",
      "275889     Stuttgart vs Bayern Munchen Live Stream Fee o...\n",
      "300234    FC Bayern Munich 2008-2009 Mobile Java Games 2009\n",
      "300245    FC Bayern Munich 2008-2009 Mobile Java Games 2009\n",
      "300256    FC Bayern Munich 2008-2009 Mobile Java Games 2009\n",
      "302448    Prominenten Navi Stimmen Günther Grünwald | De...\n",
      "304886                      Hamburger vs Bayern Munich Live\n",
      "314829    Hamburger SV Vs Bayern Munich 30 January 2009 ...\n",
      "317872    Hamburg SV v Bayern Munich German Bundesliga L...\n",
      "319468    Regierung von Mittelfranken akzeptiert Urteil ...\n",
      "320563                  Which stupid ebayer would buy this?\n",
      "Name: title, dtype: object\n"
     ]
    }
   ],
   "source": [
    "print(dataframe_2009_bayer['title'])"
   ]
  },
  {
   "cell_type": "code",
   "execution_count": 97,
   "metadata": {
    "scrolled": true
   },
   "outputs": [
    {
     "name": "stdout",
     "output_type": "stream",
     "text": [
      "307962    Hi ho, hi ho, it’s off to work we go! Synchron...\n",
      "Name: title, dtype: object\n"
     ]
    }
   ],
   "source": [
    "print(dataframe_2009_synchrony['title'])"
   ]
  },
  {
   "cell_type": "code",
   "execution_count": 98,
   "metadata": {},
   "outputs": [
    {
     "name": "stdout",
     "output_type": "stream",
     "text": [
      "559                  New Year’s Resolutions 2009: Investing\n",
      "631                         Japanese Yen Big Winner in 2008\n",
      "10391        How to collect books that will become valuable\n",
      "11196     U.S. Dollar Starts 2009 Higher in Currency Tra...\n",
      "22951                    Tips For \"Green\" Investing In 2009\n",
      "35710     Jan 1, 2009 Homeland Security froze my ETrade ...\n",
      "36631     5 Legendary Investors Whom You Are Sure to be ...\n",
      "36641               Will U.K. Interest Rates Fall Below 2%?\n",
      "36780     Global Market Report - World Awaits Barack Oba...\n",
      "37849                 Lack of leadership sends stocks lower\n",
      "70525      Pre-Market Stock News Alerts : NASDAQ - 01-08-09\n",
      "70669     Air Transport Group Holdings Announces Acquisi...\n",
      "70821     Market Alerts for Thursday, January 08, 2009 :...\n",
      "79062     Hedge Funds Lost Record 18.3% on Misjudged Mar...\n",
      "85963     *Update* U.S. Dollar Advances in Forex Trading...\n",
      "88730        An Introduction To The World Wide Forex Market\n",
      "89807           Forex Trading - What the Hype is All About?\n",
      "103596                  Is Forex Trading Something For You?\n",
      "108851       An Introduction To The World Wide Forex Market\n",
      "121489                    Is Your Asset Allocation Healthy?\n",
      "122964    Investing Rules Learned from the Bernard Madof...\n",
      "158573                  Is Forex Trading Something For You?\n",
      "160961                       Channeling Your Trading Power \n",
      "190436                                What is a Hedge Fund?\n",
      "226830    Intervention Talk Starts Up Again for Japanese...\n",
      "229800    COF Capital One reports Q4 (Dec) results; miss...\n",
      "236871    SMF Pro Traders School Prepare for 2009 Bear M...\n",
      "236957    SMF Pro Traders Summary of yesterday's Geithne...\n",
      "238680    Global Stock Market Today (US Stock Market, As...\n",
      "238792    Small Cap Pulse | A-Power (Nasdaq:APWR) Set Fo...\n",
      "260840    How To Create And Test A Trading Strategy, Part I\n",
      "264559    WB Wachovia: Steel\\'s TV remarks on Wachovia p...\n",
      "268791               Forex Training Basics: Currency Pairs \n",
      "270117     Property/Casualty Insurer dividends: An indic...\n",
      "282621    GS Goldman Sachs: Fitch downgrades L-T IDR &am...\n",
      "282622    GS Goldman Sachs: Fitch downgrades L-T IDR &am...\n",
      "285802    Stock Prices In The Balance in 2009: StockMark...\n",
      "293182                    Investing: TIPS to Beat Inflation\n",
      "330493     You Won't Believe What's In That \"Stimulus\" Bill\n",
      "Name: title, dtype: object\n"
     ]
    }
   ],
   "source": [
    "print(dataframe_2009_stockmarket['title'])"
   ]
  },
  {
   "cell_type": "code",
   "execution_count": null,
   "metadata": {},
   "outputs": [],
   "source": []
  }
 ],
 "metadata": {
  "kernelspec": {
   "display_name": "Python 3",
   "language": "python",
   "name": "python3"
  },
  "language_info": {
   "codemirror_mode": {
    "name": "ipython",
    "version": 3
   },
   "file_extension": ".py",
   "mimetype": "text/x-python",
   "name": "python",
   "nbconvert_exporter": "python",
   "pygments_lexer": "ipython3",
   "version": "3.7.0"
  }
 },
 "nbformat": 4,
 "nbformat_minor": 2
}
